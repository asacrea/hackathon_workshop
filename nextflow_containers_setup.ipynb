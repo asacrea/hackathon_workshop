{
 "cells": [
  {
   "cell_type": "markdown",
   "metadata": {},
   "source": [
    "# Nextflow Workshop: Introduction to Nexflow, Managing Dependencies and Containers\n",
    "\n",
    "In this notebook, we will explore how Nextflow enables the integration of containers and dependency management. The reference documentation is available at [Nextflow Containers](https://training.nextflow.io/latest/basic_training/containers/).\n"
   ]
  },
  {
   "cell_type": "markdown",
   "metadata": {},
   "source": [
    "## Introduction to Nextflow\n",
    "\n",
    "Nextflow is a workflow engine that integrates various languages and execution environments. Its integration with containers (Docker, Singularity, etc.) greatly improves the reproducibility of analyses.\n",
    "\n",
    "In this workshop, you will learn to:\n",
    "- Configure Nextflow to use containers.\n",
    "- Define and manage tool dependencies.\n",
    "- Execute pipelines using container images.\n"
   ]
  },
  {
   "cell_type": "markdown",
   "metadata": {},
   "source": [
    "## Installation and Configuration of Nextflow\n",
    "\n",
    "If you haven't installed Nextflow yet, you can do so using the following command in your terminal:\n",
    "\n",
    "```bash\n",
    "curl -s https://get.nextflow.io | bash\n"
   ]
  },
  {
   "cell_type": "code",
   "execution_count": null,
   "metadata": {},
   "outputs": [],
   "source": [
    "# Check the Nextflow version (requires Nextflow to be installed and in the PATH)\n",
    "!nextflow -version"
   ]
  },
  {
   "cell_type": "markdown",
   "metadata": {},
   "source": [
    "# Nextflow Installation Dependencies\n",
    "\n",
    "Before installing Nextflow, you must ensure that your system has the following dependencies installed and properly configured:\n",
    "\n",
    "1. **Java**\n",
    "2. **Docker**\n",
    "3. **Conda**\n"
   ]
  },
  {
   "cell_type": "markdown",
   "metadata": {},
   "source": [
    "#### 1. Java\n",
    "\n",
    "Nextflow is built on the Java Virtual Machine (JVM), so a Java runtime is required. Here are some key points:\n",
    "\n",
    "- **Recommended Version:**  \n",
    "  Nextflow typically requires Java 8 or later (Java 11 is a common choice).\n",
    "\n",
    "- **Installation:**  \n",
    "  You can install OpenJDK via your package manager. For example, on Ubuntu:\n",
    "  ```bash\n",
    "  sudo apt-get update\n",
    "  sudo apt-get install openjdk-11-jre\n",
    "  ```\n",
    "  After installation, verify by running:\n"
   ]
  },
  {
   "cell_type": "code",
   "execution_count": null,
   "metadata": {},
   "outputs": [],
   "source": [
    "%%bash\n",
    "java -version"
   ]
  },
  {
   "cell_type": "markdown",
   "metadata": {},
   "source": [
    "#### 2. Docker\n",
    "\n",
    "Docker is needed if you plan to run Nextflow processes inside containers, which enhances reproducibility and portability of your workflows.\n",
    "\n",
    "- **Installation:**  \n",
    "  Follow the official [Docker installation guide](https://docs.docker.com/engine/install/) for your operating system.\n",
    "  \n",
    "- **Permissions:**  \n",
    "  Ensure your user is added to the `docker` group to avoid running Docker commands with `sudo`. For example:\n",
    "  ```bash\n",
    "  sudo usermod -aG docker $USER\n",
    "  ```\n",
    "Note: After running this command, you must log out and log back in or restart your terminal to apply the changes.\n",
    "\n",
    "Test Docker installation with:"
   ]
  },
  {
   "cell_type": "code",
   "execution_count": null,
   "metadata": {},
   "outputs": [],
   "source": [
    "%%bash\n",
    "newgrp docker\n",
    "docker run --rm hello-world"
   ]
  },
  {
   "cell_type": "markdown",
   "metadata": {},
   "source": [
    "\n",
    "#### 3. Conda\n",
    "\n",
    "Conda is a popular package and environment manager often used in bioinformatics workflows.\n",
    "\n",
    "- **Usage in Nextflow:**  \n",
    "  While not strictly required to run Nextflow, Conda is very useful for managing dependencies and installing bioinformatics tools. Nextflow can automatically create and use Conda environments if specified in your pipeline.\n",
    "\n",
    "- **Installation:**  \n",
    "  You can install Miniconda (a minimal version of Conda) by following the instructions on the [Miniconda website](https://docs.conda.io/en/latest/miniconda.html).\n",
    "\n",
    "- **Verification:**  \n",
    "  Once installed, verify by running:\n",
    "  ```bash\n",
    "  conda --version\n"
   ]
  },
  {
   "cell_type": "markdown",
   "metadata": {},
   "source": [
    "# Introduction to SSH and SLURM\n",
    "\n",
    "In high-performance computing (HPC) environments or clusters, it is essential to know how to remotely access systems and submit jobs to a queue. In this section, we will provide a brief introduction on using SSH to access remote systems and on SLURM, a widely used job management and scheduling system in clusters."
   ]
  },
  {
   "cell_type": "markdown",
   "metadata": {},
   "source": [
    "## Basic Use of SSH\n",
    "\n",
    "SSH (Secure Shell) is a network protocol that allows you to securely access systems. With SSH, you can log in to remote servers, transfer files, and execute commands on the remote machine.\n",
    "\n",
    "**Basic Commands:**\n",
    "\n",
    "- **Connect to a Remote Server:**\n",
    "  ```bash\n",
    "  ssh user@server_address\n"
   ]
  },
  {
   "cell_type": "markdown",
   "metadata": {},
   "source": [
    "To get access to the server configured for the Hackathon, it needs to have a private key, previosly generated.\n",
    "It was shared thought Drive. And you can use it in the following way:\n",
    "\n",
    "```bash\n",
    "ssh -i hackathonv2 user@192.5.87.172\n",
    "```\n",
    "where hackathonv2 is the private key\n"
   ]
  },
  {
   "cell_type": "markdown",
   "metadata": {},
   "source": [
    "Example:\n",
    "\n",
    "```bash\n",
    "ssh -i ~/.ssh/hackathonv2 andres@192.5.87.172\n"
   ]
  },
  {
   "cell_type": "markdown",
   "metadata": {},
   "source": [
    "Copy Files Using SCP:\n",
    "\n",
    "```bash\n",
    "scp -i hackathonv2 <myfile> <myuser>@192.5.87.172:/home/<myuser>/\n"
   ]
  },
  {
   "cell_type": "markdown",
   "metadata": {},
   "source": [
    "Transfer Entire Directories:\n",
    "\n",
    "```bash\n",
    "scp -r directory user@server_address:/destination/path\n"
   ]
  },
  {
   "cell_type": "markdown",
   "metadata": {},
   "source": [
    "Connections to Jupyter:\n",
    "\n",
    "```bash\n",
    "ssh -i ~/.ssh/hackathonv2 -L 9090:localhost:9001 shared@192.5.87.172"
   ]
  },
  {
   "cell_type": "markdown",
   "metadata": {},
   "source": [
    "## Introduction to SLURM\n",
    "\n",
    "SLURM (Simple Linux Utility for Resource Management) is a job scheduling and management system used in computing clusters. It allows users to submit, monitor, and control jobs on the cluster.\n",
    "\n",
    "**Basic SLURM Concepts:**\n",
    "\n",
    "- **sbatch:**  \n",
    "  Submits a job script to the SLURM queue.\n",
    "  \n",
    "- **squeue:**  \n",
    "  Displays the list of jobs in the queue or running.\n",
    "  \n",
    "- **scancel:**  \n",
    "  Allows you to cancel a job in the queue or running.\n",
    "\n",
    "**Example SLURM Script:**\n",
    "\n",
    "```bash\n",
    "#!/bin/bash\n",
    "#SBATCH --job-name=test_job\n",
    "#SBATCH --time=00:01:00\n",
    "#SBATCH --partition=local\n",
    "#SBATCH --ntasks=1\n",
    "\n",
    "# Execute the pipeline or desired command\n",
    "nextflow run pipeline.nf -profile docker\n"
   ]
  },
  {
   "cell_type": "markdown",
   "metadata": {},
   "source": [
    "# Introduction to Docker Management and Manipulation\n",
    "\n",
    "Docker is a powerful platform that allows you to package applications and their dependencies into a single container. Containers are lightweight, portable, and reproducible environments. This makes Docker especially useful in bioinformatics pipelines, where reproducibility and dependency management are critical.\n"
   ]
  },
  {
   "cell_type": "markdown",
   "metadata": {},
   "source": [
    "## Basic Docker Commands\n",
    "\n",
    "Here are some essential Docker commands you should know:\n",
    "\n",
    "- **docker build:**  \n",
    "  Builds a Docker image from a Dockerfile.  \n",
    "  Example:  \n",
    "  ```bash\n",
    "  docker build -t my_image .\n"
   ]
  },
  {
   "cell_type": "markdown",
   "metadata": {},
   "source": [
    "##### Runs a container based on a Docker image:\n",
    "\n",
    "```bash\n",
    "docker run --rm my_image"
   ]
  },
  {
   "cell_type": "markdown",
   "metadata": {},
   "source": [
    "##### Lists currently running containers:\n",
    "\n",
    "```bash\n",
    "docker ps"
   ]
  },
  {
   "cell_type": "markdown",
   "metadata": {},
   "source": [
    "##### Stops a running container.\n",
    "\n",
    "```bash\n",
    "docker stop <container_id>"
   ]
  },
  {
   "cell_type": "markdown",
   "metadata": {},
   "source": [
    "## Creating a Dockerfile for a Bioinformatics Pipeline\n",
    "\n",
    "A Dockerfile is a text file that contains a series of instructions on how to build a Docker image. For a bioinformatics pipeline, your Dockerfile might install necessary tools (e.g., samtools, bwa, etc.) and set up the environment required for your analysis.\n",
    "\n",
    "Below is an example Dockerfile that installs samtools for a bioinformatics pipeline.\n"
   ]
  },
  {
   "cell_type": "code",
   "execution_count": null,
   "metadata": {
    "vscode": {
     "languageId": "dockerfile"
    }
   },
   "outputs": [],
   "source": [
    "# Use an official Ubuntu base image\n",
    "FROM ubuntu:20.04\n",
    "\n",
    "# Prevent interactive dialogue during installation\n",
    "ENV DEBIAN_FRONTEND=noninteractive\n",
    "\n",
    "# Update the package repository and install necessary packages, including samtools\n",
    "RUN apt-get update && \\\n",
    "    apt-get install -y samtools && \\\n",
    "    apt-get clean && \\\n",
    "    rm -rf /var/lib/apt/lists/*\n",
    "\n",
    "# Set the working directory inside the container\n",
    "WORKDIR /data\n",
    "\n",
    "# Set the entrypoint (optional) to allow easy use of the image\n",
    "ENTRYPOINT [\"samtools\"]\n"
   ]
  },
  {
   "cell_type": "markdown",
   "metadata": {},
   "source": [
    "## Building and Running Your Docker Image\n",
    "\n",
    "1. **Building the Docker Image:**  \n",
    "   Save the above Dockerfile in a directory (e.g., `docker-samtools/`). Then build the image by running:\n",
    "   ```bash\n",
    "   docker build -t bioinfo-samtools docker-samtools/\n"
   ]
  },
  {
   "cell_type": "markdown",
   "metadata": {},
   "source": [
    "Once built, you can run a container based on the image. For example, to display the version of samtools installed:\n",
    "\n",
    "2. **Running the Docker Image:**  \n",
    "    ```bash\n",
    "    docker run --rm bioinfo-samtools --version\n",
    "\n",
    "    ```\n",
    "The --rm flag tells Docker to remove the container once it stops."
   ]
  },
  {
   "cell_type": "markdown",
   "metadata": {},
   "source": [
    "# Pulling a Container in Nextflow\n",
    "\n",
    "Nextflow makes it easy to work with containers. When you define a process to run inside a container (using the `container` directive), Nextflow automatically checks if the specified container image is available locally. If it isn’t, Nextflow will pull the image from a container registry (such as Docker Hub or Singularity Hub).\n"
   ]
  },
  {
   "cell_type": "markdown",
   "metadata": {},
   "source": [
    "## How Nextflow Pulls a Container\n",
    "\n",
    "When you run a pipeline with a process that specifies a container, Nextflow does the following:\n",
    "\n",
    "- **Local Check:** It checks if the image exists on the host.\n",
    "- **Automatic Pull:** If the image is missing, Nextflow automatically downloads (pulls) it from the default container registry.\n",
    "- **Caching:** Once pulled, the image is cached locally to speed up subsequent executions.\n"
   ]
  },
  {
   "cell_type": "markdown",
   "metadata": {},
   "source": [
    "## Using Containers in Nextflow\n",
    "\n",
    "Nextflow allows direct integration with containers. For example, to use Docker or Singularity, simply specify the container image to be used in the process. Below is a basic example:\n",
    "\n",
    "```nextflow\n",
    "process sayHello {\n",
    "    container 'ubuntu:latest'\n",
    "    \n",
    "    script:\n",
    "    \"\"\"\n",
    "    echo \"Hello from an Ubuntu container\"\n",
    "    \"\"\"\n",
    "}\n",
    "\n",
    "workflow {\n",
    "    sayHello()\n",
    "}\n"
   ]
  },
  {
   "cell_type": "markdown",
   "metadata": {},
   "source": [
    "When you run this pipeline, if the ubuntu:latest image isn't already available on your system, Nextflow will automatically pull it."
   ]
  },
  {
   "cell_type": "markdown",
   "metadata": {},
   "source": [
    "## Advanced Options and Considerations\n",
    "\n",
    "Nextflow provides additional options to customize container behavior:\n",
    "\n",
    "- **Custom Registries:**  \n",
    "  You can configure Nextflow to pull images from alternative registries if needed.\n",
    "\n",
    "- **Image Pull Policies:**  \n",
    "  By default, Nextflow pulls the image only if it is not found locally. You can adjust this behavior via configuration settings (e.g., forcing a pull every time).\n",
    "\n",
    "- **Singularity Support:**  \n",
    "  Similar principles apply when using Singularity. Nextflow will pull the required Singularity image if it's not present locally.\n"
   ]
  },
  {
   "cell_type": "markdown",
   "metadata": {},
   "source": [
    "## Running a Pipeline from the Notebook\n",
    "\n",
    "To execute Nextflow commands or scripts from the notebook, you can use code cells with `!` (shell command) or the `%%bash` cell magic.\n",
    "\n",
    "For example, if you have the `hello.nf` file in the same directory, you can run:\n",
    "\n",
    "```bash\n",
    "!nextflow run hello.nf\n"
   ]
  },
  {
   "cell_type": "code",
   "execution_count": null,
   "metadata": {},
   "outputs": [],
   "source": [
    "!nextflow run hello.nf"
   ]
  },
  {
   "cell_type": "markdown",
   "metadata": {},
   "source": [
    "# Nextflow Profiles and Enabling Docker\n",
    "\n",
    "In Nextflow, *profiles* allow you to define configuration settings for different environments or use cases (for example, development, production, or containerized execution). This is especially useful for conditionally enabling Docker and customizing other runtime parameters.\n"
   ]
  },
  {
   "cell_type": "markdown",
   "metadata": {},
   "source": [
    "## What is a Nextflow Profile?\n",
    "\n",
    "A Nextflow profile is a set of configuration settings that are applied when you run your pipeline with that specific profile. In your `nextflow.config` file, you can define sections for a `docker` profile where Docker is enabled, along with other settings such as image pull policies or resource configurations.\n"
   ]
  },
  {
   "cell_type": "markdown",
   "metadata": {},
   "source": [
    "```nextflow\n",
    "// nextflow.config\n",
    "\n",
    "// Global configuration (default values)\n",
    "docker {\n",
    "    enabled = false   // Default: Docker is disabled\n",
    "}\n",
    "\n",
    "// Profile definitions\n",
    "profiles {\n",
    "    docker {\n",
    "        docker.enabled = true   // Enable Docker when using this profile\n",
    "        // Additional Docker-specific settings:\n",
    "        // For example, specify custom run options (adjust as needed)\n",
    "        docker.runOptions = '-u $(id -u):$(id -g)'\n",
    "    }\n",
    "    \n",
    "    // You can define other profiles, for example a 'standard' or 'local' profile\n",
    "    standard {\n",
    "        // Standard environment configuration without containers\n",
    "        docker.enabled = false\n",
    "    }\n",
    "}\n"
   ]
  },
  {
   "cell_type": "markdown",
   "metadata": {},
   "source": [
    "# Challenge: SAM to Sorted & Indexed BAM Pipeline\n",
    "\n",
    "In this exercise, you will design a Nextflow pipeline that performs the following steps using Docker containers with samtools:\n",
    "1. Convert an input SAM file to an unsorted BAM file.\n",
    "2. Sort the BAM file.\n",
    "3. Index the sorted BAM file.\n",
    "\n",
    "This pipeline will help you practice process chaining, container usage, and reproducibility in bioinformatics workflows.\n"
   ]
  },
  {
   "cell_type": "markdown",
   "metadata": {},
   "source": [
    "## Step 1: Prepare the Input SAM File\n",
    "\n",
    "For this challenge, create a minimal SAM file. You can use the following example content and save it as `input.sam`:\n",
    "\n",
    "```sam\n",
    "@HD\tVN:1.0\tSO:unsorted\n",
    "@SQ\tSN:chr1\tLN:1000\n",
    "read1\t0\tchr1\t100\t60\t50M\t*\t0\t0\tACGTACGTACGTACGTACGTACGTACGTACGTACGTACGTACGTACGTAC\t*\n"
   ]
  },
  {
   "cell_type": "markdown",
   "metadata": {},
   "source": [
    "## Step 2: Create the Nextflow Pipeline Script\n",
    "\n",
    "Create a Nextflow script named `sam_to_bam.nf` with three processes:\n",
    "1. **convertSamToBam:** Converts the SAM file to an unsorted BAM file.\n",
    "2. **sortBam:** Sorts the unsorted BAM file.\n",
    "3. **indexBam:** Indexes the sorted BAM file.\n"
   ]
  },
  {
   "cell_type": "markdown",
   "metadata": {},
   "source": [
    "## Step 3: Configure Nextflow to Use Docker\n",
    "\n",
    "Create a file named `nextflow.config` with the following content to enable Docker:\n",
    "\n",
    "```groovy\n",
    "docker.enabled = true\n",
    "\n",
    "profiles {\n",
    "    docker {\n",
    "        docker.enabled = true\n",
    "    }\n",
    "}\n"
   ]
  },
  {
   "cell_type": "markdown",
   "metadata": {},
   "source": [
    "To run the pipeline, open a terminal (or a cell in Jupyter using bash) and execute:"
   ]
  },
  {
   "cell_type": "code",
   "execution_count": null,
   "metadata": {},
   "outputs": [],
   "source": [
    "%%bash\n",
    "newgrp docker\n",
    "nextflow run sam_to_bam.nf -profile docker"
   ]
  },
  {
   "cell_type": "markdown",
   "metadata": {},
   "source": [
    "## 6. Conclusions and Next Steps\n",
    "\n",
    "In this notebook, we covered:\n",
    "- How to verify the installation of Nextflow.\n",
    "- Examples of defining processes with containers.\n",
    "- How to execute pipelines from a notebook.\n",
    "\n",
    "For more details, review the [official Nextflow Containers documentation](https://training.nextflow.io/latest/basic_training/containers/) and experiment with different images and configurations based on your analysis needs."
   ]
  }
 ],
 "metadata": {
  "kernelspec": {
   "display_name": "Python 3 (ipykernel)",
   "language": "python",
   "name": "python3"
  },
  "language_info": {
   "codemirror_mode": {
    "name": "ipython",
    "version": 3
   },
   "file_extension": ".py",
   "mimetype": "text/x-python",
   "name": "python",
   "nbconvert_exporter": "python",
   "pygments_lexer": "ipython3",
   "version": "3.10.12"
  }
 },
 "nbformat": 4,
 "nbformat_minor": 4
}
